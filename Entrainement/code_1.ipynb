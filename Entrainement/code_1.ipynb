{
 "cells": [
  {
   "cell_type": "code",
   "execution_count": 42,
   "id": "5aecd76e",
   "metadata": {},
   "outputs": [],
   "source": [
    "import pandas as pd\n",
    "import matplotlib.pyplot as plt\n",
    "import seaborn as sns\n",
    "import numpy as np\n",
    "from sklearn.feature_extraction.text import TfidfVectorizer\n",
    "from sklearn.model_selection import train_test_split\n",
    "from sklearn.naive_bayes import MultinomialNB\n",
    "from sklearn.linear_model import LogisticRegression\n",
    "from sklearn.svm import SVC\n",
    "from sklearn.metrics import (accuracy_score,\n",
    "                             classification_report,\n",
    "                             confusion_matrix,\n",
    "                             precision_score,\n",
    "\n",
    ")"
   ]
  },
  {
   "cell_type": "code",
   "execution_count": 2,
   "id": "6ea30d7d",
   "metadata": {},
   "outputs": [
    {
     "data": {
      "text/html": [
       "<div>\n",
       "<style scoped>\n",
       "    .dataframe tbody tr th:only-of-type {\n",
       "        vertical-align: middle;\n",
       "    }\n",
       "\n",
       "    .dataframe tbody tr th {\n",
       "        vertical-align: top;\n",
       "    }\n",
       "\n",
       "    .dataframe thead th {\n",
       "        text-align: right;\n",
       "    }\n",
       "</style>\n",
       "<table border=\"1\" class=\"dataframe\">\n",
       "  <thead>\n",
       "    <tr style=\"text-align: right;\">\n",
       "      <th></th>\n",
       "      <th>comments</th>\n",
       "      <th>textes_nettoyes</th>\n",
       "      <th>textes_pretraites</th>\n",
       "    </tr>\n",
       "  </thead>\n",
       "  <tbody>\n",
       "    <tr>\n",
       "      <th>0</th>\n",
       "      <td>Les cours sont intéressants mais parfois diffi...</td>\n",
       "      <td>les cours sont interessants mais parfois diffi...</td>\n",
       "      <td>cour interess parfois difficil a suivr a caus ...</td>\n",
       "    </tr>\n",
       "    <tr>\n",
       "      <th>1</th>\n",
       "      <td>Oui je pense que il ya des failles ! La connex...</td>\n",
       "      <td>oui je pense que il ya des failles ! la connex...</td>\n",
       "      <td>oui pens ya faill connexion stabl plus qualit ...</td>\n",
       "    </tr>\n",
       "    <tr>\n",
       "      <th>2</th>\n",
       "      <td>L'université virtuelle du Burkina Faso, est un...</td>\n",
       "      <td>l'universite virtuelle du burkina faso, est un...</td>\n",
       "      <td>virtuel burkin faso universit qualit car perme...</td>\n",
       "    </tr>\n",
       "    <tr>\n",
       "      <th>3</th>\n",
       "      <td>Rien à dire! J'adore le UV-BF</td>\n",
       "      <td>rien a dire! j'adore le uv-bf</td>\n",
       "      <td>rien a dir</td>\n",
       "    </tr>\n",
       "    <tr>\n",
       "      <th>4</th>\n",
       "      <td>Formidable !  J'apprécie beaucoup ! Il n'y a p...</td>\n",
       "      <td>formidable ! j'apprecie beaucoup ! il n'y a pa...</td>\n",
       "      <td>formid beaucoup a difficult tant tel</td>\n",
       "    </tr>\n",
       "  </tbody>\n",
       "</table>\n",
       "</div>"
      ],
      "text/plain": [
       "                                            comments  \\\n",
       "0  Les cours sont intéressants mais parfois diffi...   \n",
       "1  Oui je pense que il ya des failles ! La connex...   \n",
       "2  L'université virtuelle du Burkina Faso, est un...   \n",
       "3                      Rien à dire! J'adore le UV-BF   \n",
       "4  Formidable !  J'apprécie beaucoup ! Il n'y a p...   \n",
       "\n",
       "                                     textes_nettoyes  \\\n",
       "0  les cours sont interessants mais parfois diffi...   \n",
       "1  oui je pense que il ya des failles ! la connex...   \n",
       "2  l'universite virtuelle du burkina faso, est un...   \n",
       "3                      rien a dire! j'adore le uv-bf   \n",
       "4  formidable ! j'apprecie beaucoup ! il n'y a pa...   \n",
       "\n",
       "                                   textes_pretraites  \n",
       "0  cour interess parfois difficil a suivr a caus ...  \n",
       "1  oui pens ya faill connexion stabl plus qualit ...  \n",
       "2  virtuel burkin faso universit qualit car perme...  \n",
       "3                                         rien a dir  \n",
       "4               formid beaucoup a difficult tant tel  "
      ]
     },
     "execution_count": 2,
     "metadata": {},
     "output_type": "execute_result"
    }
   ],
   "source": [
    "df = pd.read_csv(\"../NLP_Pretraitemet/code/dataset_uvbf_pretraite.csv\")\n",
    "df.head()"
   ]
  },
  {
   "cell_type": "code",
   "execution_count": 5,
   "id": "255ccd52",
   "metadata": {},
   "outputs": [
    {
     "name": "stdout",
     "output_type": "stream",
     "text": [
      "    Sentiments annotés\n",
      "\n",
      "   Distribution des sentiments:\n",
      "sentiment\n",
      "neutre     144\n",
      "positif     27\n",
      "negatif     25\n",
      "Name: count, dtype: int64\n",
      "\n",
      "    Statistiques:\n",
      "   Positifs: 27 (13.8%)\n",
      "   Négatifs: 25 (12.8%)\n",
      "   Neutres: 144 (73.5%)\n",
      "\n",
      " Fichier sauvegardé: dataset_annote.csv\n"
     ]
    }
   ],
   "source": [
    "# Annotations des sentiments\n",
    "# Dictionnaires de mots pour l'analyse de sentiment\n",
    "mots_positifs = [\n",
    "    'bon', 'bien', 'excellent', 'super', 'génial', 'parfait', 'satisfait',\n",
    "    'content', 'heureux', 'merci', 'félicitation', 'apprécier', 'aimer',\n",
    "    'qualité', 'intéressant', 'utile', 'efficace', 'professionnel',\n",
    "    'meilleur', 'top', 'cool', 'formidable', 'magnifique', 'réussi'\n",
    "]\n",
    "\n",
    "mots_negatifs = [\n",
    "    'mauvais', 'nul', 'pas', 'non', 'jamais', 'problème', 'difficulté',\n",
    "    'difficile', 'compliqué', 'lent', 'cher', 'déçu', 'frustrant',\n",
    "    'bug', 'erreur', 'panne', 'coupure', 'connexion', 'instable',\n",
    "    'attendre', 'retard', 'absent', 'manque', 'incomplet', 'mauvais'\n",
    "]\n",
    "\n",
    "# Annoter chaque texte\n",
    "sentiments = []\n",
    "\n",
    "for texte in df['textes_nettoyes']:\n",
    "    texte_lower = str(texte).lower()\n",
    "    \n",
    "    # Compter les mots positifs et négatifs\n",
    "    score_positif = sum(1 for mot in mots_positifs if mot in texte_lower)\n",
    "    score_negatif = sum(1 for mot in mots_negatifs if mot in texte_lower)\n",
    "    \n",
    "    # Déterminer le sentiment\n",
    "    if score_positif > score_negatif:\n",
    "        sentiments.append('positif')\n",
    "    elif score_negatif > score_positif:\n",
    "        sentiments.append('negatif')\n",
    "    else:\n",
    "        sentiments.append('neutre')\n",
    "\n",
    "df['sentiment'] = sentiments\n",
    "\n",
    "print(f\"    Sentiments annotés\")\n",
    "print(f\"\\n   Distribution des sentiments:\")\n",
    "print(df['sentiment'].value_counts())\n",
    "\n",
    "nb_positifs = (df['sentiment'] == 'positif').sum()\n",
    "nb_negatifs = (df['sentiment'] == 'negatif').sum()\n",
    "nb_neutres = (df['sentiment'] == 'neutre').sum()\n",
    "total = len(df)\n",
    "\n",
    "print(f\"\\n    Statistiques:\")\n",
    "print(f\"   Positifs: {nb_positifs} ({nb_positifs/total*100:.1f}%)\")\n",
    "print(f\"   Négatifs: {nb_negatifs} ({nb_negatifs/total*100:.1f}%)\")\n",
    "print(f\"   Neutres: {nb_neutres} ({nb_neutres/total*100:.1f}%)\")\n",
    "\n",
    "# Sauvegarder le dataset annoté\n",
    "df.to_csv('dataset_annote.csv', index=False, encoding='utf-8')\n",
    "print(f\"\\n Fichier sauvegardé: dataset_annote.csv\")"
   ]
  },
  {
   "cell_type": "code",
   "execution_count": 13,
   "id": "14f95dd5",
   "metadata": {},
   "outputs": [],
   "source": [
    "# Remplacer les NaN par des chaînes vides\n",
    "df['textes_nettoyes'] = df['textes_nettoyes'].fillna(\"\")\n",
    "# S'assurer que tout est bien string\n",
    "df['textes_nettoyes'] = df['textes_nettoyes'].astype(str)"
   ]
  },
  {
   "cell_type": "code",
   "execution_count": 17,
   "id": "e7195f0c",
   "metadata": {},
   "outputs": [
    {
     "name": "stdout",
     "output_type": "stream",
     "text": [
      "\n",
      "   Vectorisation TF-IDF terminée. Forme de X: (196, 758)\n",
      "Nombre de features: 758\n"
     ]
    }
   ],
   "source": [
    "# Vectorisation TF-IDF\n",
    "vectorizer = TfidfVectorizer(\n",
    "    max_features=5000,\n",
    "    ngram_range=(1, 2),\n",
    "    min_df=2\n",
    ")\n",
    "\n",
    "# Transformer les textes en vecteurs TF-IDF\n",
    "X = vectorizer.fit_transform(df['textes_nettoyes']).toarray()\n",
    "y = df['sentiment']\n",
    "print(f\"\\n   Vectorisation TF-IDF terminée. Forme de X: {X.shape}\")\n",
    "print(f\"Nombre de features: {len(vectorizer.get_feature_names_out())}\")"
   ]
  },
  {
   "cell_type": "code",
   "execution_count": 18,
   "id": "a818ff19",
   "metadata": {},
   "outputs": [
    {
     "name": "stdout",
     "output_type": "stream",
     "text": [
      " ['02', '02 mois', '10', '10 gigas', '10giga', 'abord', 'abord la', 'academique', 'acces', 'acces aux', 'accessibilite', 'ai', 'ai ete', 'ai pose', 'aide', 'aident', 'ainsi', 'ainsi que', 'annee', 'appartenir']\n"
     ]
    }
   ],
   "source": [
    "# Afficher quelques features importantes\n",
    "features = vectorizer.get_feature_names_out()\n",
    "print(f\" {list(features[:20])}\")"
   ]
  },
  {
   "cell_type": "code",
   "execution_count": 19,
   "id": "00c78bb0",
   "metadata": {},
   "outputs": [
    {
     "name": "stdout",
     "output_type": "stream",
     "text": [
      "\n",
      "--------------------------------------------------\n",
      "\n",
      "Division des données en train et test soit (80% train, 20% test)\n",
      "\n",
      "--------------------------------------------------\n",
      "\n"
     ]
    }
   ],
   "source": [
    "print(\"\\n\" + \"-\" * 50 + \"\\n\")\n",
    "print(\"Division des données en train et test soit (80% train, 20% test)\")\n",
    "print(\"\\n\" + \"-\" * 50 + \"\\n\")\n",
    "\n"
   ]
  },
  {
   "cell_type": "code",
   "execution_count": 21,
   "id": "00527227",
   "metadata": {},
   "outputs": [],
   "source": [
    "X_train, X_test, y_train, y_test = train_test_split(\n",
    "    X, y,\n",
    "    test_size=0.2,\n",
    "    random_state=42,\n",
    "    stratify=y\n",
    "    \n",
    ")"
   ]
  },
  {
   "cell_type": "code",
   "execution_count": 22,
   "id": "1fa42166",
   "metadata": {},
   "outputs": [
    {
     "name": "stdout",
     "output_type": "stream",
     "text": [
      "Division des données \n",
      "Ensemble d'entrainement : 156\n",
      "Ensemble de test : 40\n",
      "\n",
      "--------------------------------------------------\n",
      "\n",
      " Distribution de l'ensemble des données detest sentiment\n",
      "neutre     29\n",
      "positif     6\n",
      "negatif     5\n",
      "Name: count, dtype: int64\n",
      " Distribution de l'ensemble des données d 'entrainement sentiment\n",
      "neutre     115\n",
      "positif     21\n",
      "negatif     20\n",
      "Name: count, dtype: int64\n"
     ]
    }
   ],
   "source": [
    "print(\"Division des données \")\n",
    "print(f\"Ensemble d'entrainement : {X_train.shape[0]}\")\n",
    "print(f\"Ensemble de test : {X_test.shape[0]}\")\n",
    "print(\"\\n\" + \"-\" * 50 + \"\\n\")\n",
    "print(f\" Distribution de l'ensemble des données detest {y_test.value_counts()}\")\n",
    "print(f\" Distribution de l'ensemble des données d 'entrainement {y_train.value_counts()}\")\n"
   ]
  },
  {
   "cell_type": "markdown",
   "id": "6da5eeb6",
   "metadata": {},
   "source": [
    "### ==========================================\n",
    "#### ENTRAÎNEMENT DES MODÈLES\n",
    "### =========================================="
   ]
  },
  {
   "cell_type": "code",
   "execution_count": 23,
   "id": "1cee4ce7",
   "metadata": {},
   "outputs": [
    {
     "name": "stdout",
     "output_type": "stream",
     "text": [
      "\n",
      "======================================================================\n",
      "\n",
      "ENTRAÎNEMENT DES MODÈLES DE CLASSIFICATION\n",
      "======================================================================\n",
      "\n"
     ]
    }
   ],
   "source": [
    "print(\"\\n\" + \"=\"*70 + \"\\n\")\n",
    "print(\"ENTRAÎNEMENT DES MODÈLES DE CLASSIFICATION\")\n",
    "print(\"=\"*70 + \"\\n\")\n"
   ]
  },
  {
   "cell_type": "code",
   "execution_count": 26,
   "id": "5ad68e29",
   "metadata": {},
   "outputs": [],
   "source": [
    "# Modele utilisant le Naive Bayes\n",
    "\n",
    "model_nb = MultinomialNB()\n",
    "model_nb.fit(X_train, y_train)\n",
    "y_pred_nb = model_nb.predict(X_test)\n",
    "accuracy_nb = accuracy_score(y_test, y_pred_nb)\n",
    "\n"
   ]
  },
  {
   "cell_type": "code",
   "execution_count": 27,
   "id": "57ac5e40",
   "metadata": {},
   "outputs": [
    {
     "name": "stdout",
     "output_type": "stream",
     "text": [
      " Modele Naive Bayes entrainé\n",
      "Accuracy : 0.7250 (72.5%)\n"
     ]
    }
   ],
   "source": [
    "print(\" Modele Naive Bayes entrainé\")\n",
    "print(f\"Accuracy : {accuracy_nb:.4f} ({accuracy_nb*100:.1f}%)\")"
   ]
  },
  {
   "cell_type": "code",
   "execution_count": 29,
   "id": "e8f620b3",
   "metadata": {},
   "outputs": [],
   "source": [
    "# Modele utilisant Logistic Regression\n",
    "\n",
    "model_lr = LogisticRegression(max_iter=1000, random_state=42)\n",
    "model_lr.fit(X_train, y_train)\n",
    "y_pred_lr = model_lr.predict(X_test)\n",
    "accuracy_lr = accuracy_score(y_test, y_pred_lr)"
   ]
  },
  {
   "cell_type": "code",
   "execution_count": 30,
   "id": "c5732d22",
   "metadata": {},
   "outputs": [
    {
     "name": "stdout",
     "output_type": "stream",
     "text": [
      "Modèle entraîné\n",
      "Accuracy: 0.725 (72.5%)\n"
     ]
    }
   ],
   "source": [
    "print(f\"Modèle entraîné\")\n",
    "print(f\"Accuracy: {accuracy_lr:.3f} ({accuracy_lr*100:.1f}%)\")"
   ]
  },
  {
   "cell_type": "code",
   "execution_count": 33,
   "id": "5ff122f2",
   "metadata": {},
   "outputs": [
    {
     "name": "stdout",
     "output_type": "stream",
     "text": [
      "\n",
      " Modèle 3: Support Vector Machine (SVM)\n",
      "--------------------------------------------------\n"
     ]
    }
   ],
   "source": [
    "# Modele utilisant SVM \n",
    "print(\"\\n Modèle 3: Support Vector Machine (SVM)\")\n",
    "print(\"-\" * 50)\n",
    "\n",
    "\n"
   ]
  },
  {
   "cell_type": "code",
   "execution_count": 34,
   "id": "98462547",
   "metadata": {},
   "outputs": [],
   "source": [
    "model_svm = SVC(kernel='linear', random_state=42)\n",
    "model_svm.fit(X_train, y_train)\n",
    "y_pred_svm = model_svm.predict(X_test)\n",
    "accuracy_svm = accuracy_score(y_test, y_pred_svm)\n"
   ]
  },
  {
   "cell_type": "code",
   "execution_count": 35,
   "id": "1ceae966",
   "metadata": {},
   "outputs": [
    {
     "name": "stdout",
     "output_type": "stream",
     "text": [
      "Modèle entraîné\n",
      "Accuracy: 0.775 (77.5%)\n"
     ]
    }
   ],
   "source": [
    "print(f\"Modèle entraîné\")\n",
    "print(f\"Accuracy: {accuracy_svm:.3f} ({accuracy_svm*100:.1f}%)\")"
   ]
  },
  {
   "cell_type": "code",
   "execution_count": 36,
   "id": "afc8e290",
   "metadata": {},
   "outputs": [
    {
     "name": "stdout",
     "output_type": "stream",
     "text": [
      "Naive Bayes: 0.725 (72.5%)\n",
      "Logistic Regression: 0.725 (72.5%)\n",
      "SVM: 0.775 (77.5%)\n"
     ]
    }
   ],
   "source": [
    "# comparaison des modèles\n",
    "\n",
    "resultats_models = {\n",
    "    'Naive Bayes': accuracy_nb,\n",
    "    'Logistic Regression': accuracy_lr,\n",
    "    'SVM': accuracy_svm\n",
    "}\n",
    "\n",
    "for nom, accuracy in resultats_models.items():\n",
    "    print(f\"{nom}: {accuracy:.3f} ({accuracy*100:.1f}%)\")"
   ]
  },
  {
   "cell_type": "code",
   "execution_count": 37,
   "id": "fc763143",
   "metadata": {},
   "outputs": [
    {
     "name": "stdout",
     "output_type": "stream",
     "text": [
      "\n",
      "Meilleur modèle: SVM\n"
     ]
    }
   ],
   "source": [
    "meilleur_modele = max(resultats_models, key=resultats_models.get)\n",
    "print(f\"\\nMeilleur modèle: {meilleur_modele}\")"
   ]
  },
  {
   "cell_type": "code",
   "execution_count": 38,
   "id": "1335c143",
   "metadata": {},
   "outputs": [
    {
     "name": "stdout",
     "output_type": "stream",
     "text": [
      "\n",
      "Évaluation détaillée - SVM\n",
      "--------------------------------------------------\n"
     ]
    }
   ],
   "source": [
    "# Evaluation des models\n",
    "print(f\"\\nÉvaluation détaillée - {meilleur_modele}\")\n",
    "print(\"-\" * 50)"
   ]
  },
  {
   "cell_type": "code",
   "execution_count": 40,
   "id": "bfdcfc0d",
   "metadata": {},
   "outputs": [
    {
     "name": "stdout",
     "output_type": "stream",
     "text": [
      "\n",
      "Rapport de classification:\n",
      "              precision    recall  f1-score   support\n",
      "\n",
      "     negatif       1.00      0.20      0.33         5\n",
      "      neutre       0.76      1.00      0.87        29\n",
      "     positif       1.00      0.17      0.29         6\n",
      "\n",
      "    accuracy                           0.78        40\n",
      "   macro avg       0.92      0.46      0.49        40\n",
      "weighted avg       0.83      0.78      0.71        40\n",
      "\n"
     ]
    }
   ],
   "source": [
    "# Choisir les prédictions du meilleur modèle\n",
    "if meilleur_modele == 'Naive Bayes':\n",
    "    y_pred = y_pred_nb\n",
    "elif meilleur_modele == 'Logistic Regression':\n",
    "    y_pred = y_pred_lr\n",
    "else:\n",
    "    y_pred = y_pred_svm\n",
    "\n",
    "# Rapport de classification\n",
    "print(\"\\nRapport de classification:\")\n",
    "print(classification_report(y_test, y_pred, zero_division=0))"
   ]
  },
  {
   "cell_type": "code",
   "execution_count": 41,
   "id": "83599383",
   "metadata": {},
   "outputs": [
    {
     "name": "stdout",
     "output_type": "stream",
     "text": [
      "\n",
      "Matrice de confusion:\n",
      "[[ 1  4  0]\n",
      " [ 0 29  0]\n",
      " [ 0  5  1]]\n"
     ]
    }
   ],
   "source": [
    "# Matrice de confusion\n",
    "cm = confusion_matrix(y_test, y_pred)\n",
    "print(\"\\nMatrice de confusion:\")\n",
    "print(cm)"
   ]
  },
  {
   "cell_type": "code",
   "execution_count": 44,
   "id": "1ea9ef24",
   "metadata": {},
   "outputs": [
    {
     "name": "stdout",
     "output_type": "stream",
     "text": [
      "\n",
      "Matrice de confusion sauvegardée: matrice_confusion.png\n"
     ]
    },
    {
     "data": {
      "image/png": "[encoded data removed]",
      "text/plain": [
       "<Figure size 800x600 with 2 Axes>"
      ]
     },
     "metadata": {},
     "output_type": "display_data"
    }
   ],
   "source": [
    "# Visualisation de la matrice de confusion\n",
    "plt.figure(figsize=(8, 6))\n",
    "sns.heatmap(cm, annot=True, fmt='d', cmap='Blues',\n",
    "            xticklabels=sorted(set(y_test)),\n",
    "            yticklabels=sorted(set(y_test)))\n",
    "plt.title(f'Matrice de Confusion - {meilleur_modele}')\n",
    "plt.ylabel('Vraie classe')\n",
    "plt.xlabel('Classe prédite')\n",
    "plt.tight_layout()\n",
    "plt.savefig('matrice_confusion.png', dpi=300, bbox_inches='tight')\n",
    "# plt.close()\n",
    "\n",
    "print(f\"\\nMatrice de confusion sauvegardée: matrice_confusion.png\")"
   ]
  },
  {
   "cell_type": "code",
   "execution_count": 45,
   "id": "e8a4b974",
   "metadata": {},
   "outputs": [
    {
     "name": "stdout",
     "output_type": "stream",
     "text": [
      "\n",
      "Comparaison des modèles sauvegardée: comparaison_modeles.png\n"
     ]
    },
    {
     "data": {
      "image/png": "[encoded data removed]",
      "text/plain": [
       "<Figure size 1000x600 with 1 Axes>"
      ]
     },
     "metadata": {},
     "output_type": "display_data"
    }
   ],
   "source": [
    "# Graphique de comparaison des modèles\n",
    "plt.figure(figsize=(10, 6))\n",
    "noms = list(resultats_models.keys())\n",
    "accuracies = list(resultats_models.values())\n",
    "\n",
    "bars = plt.bar(noms, accuracies, color=['#3498db', '#e74c3c', '#2ecc71'])\n",
    "plt.ylabel('Accuracy')\n",
    "plt.title('Comparaison des Modèles de Classification')\n",
    "plt.ylim(0, 1)\n",
    "\n",
    "for bar in bars:\n",
    "    height = bar.get_height()\n",
    "    plt.text(bar.get_x() + bar.get_width()/2., height,\n",
    "            f'{height:.3f}',\n",
    "            ha='center', va='bottom')\n",
    "\n",
    "plt.tight_layout()\n",
    "plt.savefig('comparaison_modeles.png', dpi=300, bbox_inches='tight')\n",
    "# plt.close()\n",
    "\n",
    "print(f\"\\nComparaison des modèles sauvegardée: comparaison_modeles.png\")"
   ]
  },
  {
   "cell_type": "markdown",
   "id": "100459b5",
   "metadata": {},
   "source": [
    "#### ==========================================\n",
    "### ANALYSE DES SENTIMENTS SUR L'UVBF\n",
    "#### =========================================="
   ]
  },
  {
   "cell_type": "code",
   "execution_count": 46,
   "id": "a006f6d4",
   "metadata": {},
   "outputs": [],
   "source": [
    "# Statistiques globales\n",
    "total_commentaires = len(df)\n",
    "nb_positifs = (df['sentiment'] == 'positif').sum()\n",
    "nb_negatifs = (df['sentiment'] == 'negatif').sum()\n",
    "nb_neutres = (df['sentiment'] == 'neutre').sum()\n"
   ]
  },
  {
   "cell_type": "code",
   "execution_count": 47,
   "id": "02da80fb",
   "metadata": {},
   "outputs": [],
   "source": [
    "pct_positifs = (nb_positifs / total_commentaires) * 100\n",
    "pct_negatifs = (nb_negatifs / total_commentaires) * 100\n",
    "pct_neutres = (nb_neutres / total_commentaires) * 100"
   ]
  },
  {
   "cell_type": "code",
   "execution_count": 48,
   "id": "fa3c1ea2",
   "metadata": {},
   "outputs": [
    {
     "name": "stdout",
     "output_type": "stream",
     "text": [
      "\n",
      "RESULTATS FINAUX:\n",
      "   Total de commentaires analysés: 196\n",
      "\n",
      "   Commentaires POSITIFS: 27 (13.8%)\n",
      "   Commentaires NÉGATIFS: 25 (12.8%)\n",
      "   Commentaires NEUTRES: 144 (73.5%)\n"
     ]
    }
   ],
   "source": [
    "print(f\"\\nRESULTATS FINAUX:\")\n",
    "print(f\"   Total de commentaires analysés: {total_commentaires}\")\n",
    "print(f\"\\n   Commentaires POSITIFS: {nb_positifs} ({pct_positifs:.1f}%)\")\n",
    "print(f\"   Commentaires NÉGATIFS: {nb_negatifs} ({pct_negatifs:.1f}%)\")\n",
    "print(f\"   Commentaires NEUTRES: {nb_neutres} ({pct_neutres:.1f}%)\")"
   ]
  },
  {
   "cell_type": "code",
   "execution_count": 49,
   "id": "deb4cd75",
   "metadata": {},
   "outputs": [],
   "source": [
    "# Taux de satisfaction\n",
    "taux_satisfaction = pct_positifs\n",
    "taux_insatisfaction = pct_negatifs"
   ]
  },
  {
   "cell_type": "code",
   "execution_count": 50,
   "id": "33b14c12",
   "metadata": {},
   "outputs": [
    {
     "name": "stdout",
     "output_type": "stream",
     "text": [
      "\n",
      "INDICATEURS CLÉS:\n",
      "   Taux de satisfaction: 13.8%\n",
      "   Taux d'insatisfaction: 12.8%\n"
     ]
    }
   ],
   "source": [
    "print(f\"\\nINDICATEURS CLÉS:\")\n",
    "print(f\"   Taux de satisfaction: {taux_satisfaction:.1f}%\")\n",
    "print(f\"   Taux d'insatisfaction: {taux_insatisfaction:.1f}%\")\n"
   ]
  },
  {
   "cell_type": "code",
   "execution_count": 51,
   "id": "421d3fc9",
   "metadata": {},
   "outputs": [
    {
     "name": "stdout",
     "output_type": "stream",
     "text": [
      "\n",
      "  Perception MIXTE de l'UVBF sur les réseaux sociaux\n"
     ]
    }
   ],
   "source": [
    "# Conclusion\n",
    "if taux_satisfaction > 50:\n",
    "    conclusion = \" Perception POSITIVE de l'UVBF sur les réseaux sociaux\"\n",
    "elif taux_insatisfaction > 50:\n",
    "    conclusion = \" Perception NÉGATIVE de l'UVBF sur les réseaux sociaux\"\n",
    "else:\n",
    "    conclusion = \"  Perception MIXTE de l'UVBF sur les réseaux sociaux\"\n",
    "\n",
    "print(f\"\\n{conclusion}\")"
   ]
  },
  {
   "cell_type": "code",
   "execution_count": 53,
   "id": "44c5b62d",
   "metadata": {},
   "outputs": [
    {
     "name": "stdout",
     "output_type": "stream",
     "text": [
      "\n",
      "Analyse des sentiments sauvegardée: analyse_sentiments_uvbf.png\n"
     ]
    },
    {
     "data": {
      "image/png": "[encoded data removed]",
      "text/plain": [
       "<Figure size 1400x600 with 2 Axes>"
      ]
     },
     "metadata": {},
     "output_type": "display_data"
    }
   ],
   "source": [
    "# Visualisation\n",
    "fig, (ax1, ax2) = plt.subplots(1, 2, figsize=(14, 6))\n",
    "\n",
    "# Graphique en secteurs\n",
    "colors = ['#2ecc71', '#e74c3c', \"#cf9409\"]\n",
    "labels = ['Positif', 'Négatif', 'Neutre']\n",
    "sizes = [nb_positifs, nb_negatifs, nb_neutres]\n",
    "\n",
    "ax1.pie(sizes, labels=labels, autopct='%1.1f%%', colors=colors, startangle=90)\n",
    "ax1.set_title('Distribution des Sentiments')\n",
    "\n",
    "# Graphique en barres\n",
    "ax2.bar(labels, sizes, color=colors)\n",
    "ax2.set_ylabel('Nombre de commentaires')\n",
    "ax2.set_title('Nombre de commentaires par sentiment')\n",
    "ax2.set_ylim(0, max(sizes) * 1.2)\n",
    "\n",
    "for i, v in enumerate(sizes):\n",
    "    ax2.text(i, v + max(sizes)*0.02, str(v), ha='center', va='bottom')\n",
    "\n",
    "plt.tight_layout()\n",
    "plt.savefig('analyse_sentiments_uvbf.png', dpi=300, bbox_inches='tight')\n",
    "# plt.close()\n",
    "\n",
    "print(f\"\\nAnalyse des sentiments sauvegardée: analyse_sentiments_uvbf.png\")\n"
   ]
  },
  {
   "cell_type": "code",
   "execution_count": 54,
   "id": "78d9f26d",
   "metadata": {},
   "outputs": [
    {
     "name": "stdout",
     "output_type": "stream",
     "text": [
      "\n",
      "Résultats principaux:\n",
      "   • 196 commentaires analysés\n",
      "   • 13.8% de sentiments positifs\n",
      "   • 12.8% de sentiments négatifs\n",
      "   • Meilleur modèle: SVM (77.5%)\n",
      "   • Conclusion:   Perception MIXTE de l'UVBF sur les réseaux sociaux\n"
     ]
    }
   ],
   "source": [
    "print(\"\\nRésultats principaux:\")\n",
    "print(f\"   • {total_commentaires} commentaires analysés\")\n",
    "print(f\"   • {pct_positifs:.1f}% de sentiments positifs\")\n",
    "print(f\"   • {pct_negatifs:.1f}% de sentiments négatifs\")\n",
    "print(f\"   • Meilleur modèle: {meilleur_modele} ({resultats_models[meilleur_modele]*100:.1f}%)\")\n",
    "print(f\"   • Conclusion: {conclusion}\")"
   ]
  }
 ],
 "metadata": {
  "kernelspec": {
   "display_name": "env",
   "language": "python",
   "name": "python3"
  },
  "language_info": {
   "codemirror_mode": {
    "name": "ipython",
    "version": 3
   },
   "file_extension": ".py",
   "mimetype": "text/x-python",
   "name": "python",
   "nbconvert_exporter": "python",
   "pygments_lexer": "ipython3",
   "version": "3.12.3"
  }
 },
 "nbformat": 4,
 "nbformat_minor": 5
}
